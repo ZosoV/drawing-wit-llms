{
 "cells": [
  {
   "cell_type": "markdown",
   "id": "4edbef24",
   "metadata": {},
   "source": [
    "Use Openrouter API for gemma2 to compare with kaggle_outputs"
   ]
  },
  {
   "cell_type": "code",
   "execution_count": 1,
   "id": "e876d62e",
   "metadata": {},
   "outputs": [
    {
     "name": "stdout",
     "output_type": "stream",
     "text": [
      "Changing scope to parent dir\n",
      "Current Scope /mnt/c/Users/ankit/Desktop/Portfolio/kaggle/drawing-wit-llms/dataset\n",
      "New Scope /mnt/c/Users/ankit/Desktop/Portfolio/kaggle/drawing-wit-llms\n"
     ]
    }
   ],
   "source": [
    "from pathlib import Path\n",
    "import os\n",
    "\n",
    "print(\"Changing scope to parent dir\")\n",
    "scope = Path().resolve()\n",
    "print(f\"Current Scope {scope}\")\n",
    "\n",
    "os.chdir(\"..\")\n",
    "\n",
    "scope = Path().resolve()\n",
    "print(f\"New Scope {scope}\")"
   ]
  },
  {
   "cell_type": "code",
   "execution_count": 2,
   "id": "48bfab19",
   "metadata": {},
   "outputs": [],
   "source": [
    "from dotenv import load_dotenv\n",
    "from utils.llm import llm\n",
    "\n",
    "load_dotenv(\".env\")\n",
    "\n",
    "gemma = llm(\n",
    "    base_url=\"https://openrouter.ai/api/v1\",\n",
    "    api_key=os.getenv(\"OPENROUTER_API_KEY\"),\n",
    "    model=\"google/gemma-2-9b-it:free\",\n",
    "    req_per_day= 10000 # no limit\n",
    ")"
   ]
  },
  {
   "cell_type": "code",
   "execution_count": 3,
   "id": "5138fd0e",
   "metadata": {},
   "outputs": [],
   "source": [
    "import pandas as pd\n",
    "\n",
    "df = pd.read_csv(\"dataset/train.csv\")"
   ]
  },
  {
   "cell_type": "code",
   "execution_count": 4,
   "id": "6fd79716",
   "metadata": {},
   "outputs": [
    {
     "data": {
      "image/svg+xml": [
       "<svg viewBox=\"0 0 256 256\" width=\"256\" height=\"256\">\n",
       "  <defs>\n",
       "    <linearGradient id=\"purpleGradient\" x1=\"0%\" y1=\"0%\" x2=\"100%\" y2=\"100%\">\n",
       "      <stop offset=\"0%\" stop-color=\"#800080\"/>\n",
       "      <stop offset=\"100%\" stop-color=\"#0000FF\"/>\n",
       "    </linearGradient>\n",
       "  </defs>\n",
       "  <rect width=\"256\" height=\"256\" fill=\"url(#purpleGradient)\"/>\n",
       "  <circle cx=\"128\" cy=\"128\" r=\"100\" fill=\"purple\" opacity=\"0.5\"/>\n",
       "  <path d=\"M100 100 L150 150 L180 100 Z\" fill=\"purple\" opacity=\"0.2\"/>\n",
       "  <path d=\"M180 100 L230 150 L200 100 Z\" fill=\"purple\" opacity=\"0.2\"/>\n",
       "</svg>"
      ],
      "text/plain": [
       "<IPython.core.display.SVG object>"
      ]
     },
     "metadata": {},
     "output_type": "display_data"
    },
    {
     "name": "stdout",
     "output_type": "stream",
     "text": [
      "a purple forest at dusk\n"
     ]
    },
    {
     "data": {
      "image/svg+xml": [
       "<svg viewBox=\"0 0 256 256\" width=\"256\" height=\"256\">\n",
       "  <rect x=\"20\" y=\"40\" width=\"216\" height=\"180\" fill=\"gray\"/>   \n",
       "  <polygon points=\"120,40 120,70 180,70 180,40\" fill=\"white\"/> \n",
       "</svg>"
      ],
      "text/plain": [
       "<IPython.core.display.SVG object>"
      ]
     },
     "metadata": {},
     "output_type": "display_data"
    },
    {
     "name": "stdout",
     "output_type": "stream",
     "text": [
      "gray wool coat with a faux fur collar\n"
     ]
    },
    {
     "data": {
      "image/svg+xml": [
       "<svg viewBox=\"0 0 256 256\" width=\"256\" height=\"256\">\n",
       "  <circle cx=\"128\" cy=\"100\" r=\"30\" fill=\"brown\"/>\n",
       "  <rect x=\"110\" y=\"130\" width=\"30\" height=\"60\" fill=\"white\"/>\n",
       "  <rect x=\"115\" y=\"140\" width=\"20\" height=\"40\" fill=\"black\"/>\n",
       "  <path d=\"M128 100 L128 150\" stroke=\"black\" stroke-width=\"3\" stroke-linecap=\"round\"/>\n",
       "  <path d=\"M128 150 L160 190\" stroke=\"black\" stroke-width=\"3\" stroke-linecap=\"round\"/>\n",
       "  <path d=\"M128 150 L96 190\" stroke=\"black\" stroke-width=\"3\" stroke-linecap=\"round\"/>\n",
       "  <path d=\"M128 200 L128 230\" stroke=\"black\" stroke-width=\"3\" stroke-linecap=\"round\"/>\n",
       "  <ellipse cx=\"128\" cy=\"230\" rx=\"25\" ry=\"15\" fill=\"blue\"/>\n",
       "</svg>"
      ],
      "text/plain": [
       "<IPython.core.display.SVG object>"
      ]
     },
     "metadata": {},
     "output_type": "display_data"
    },
    {
     "name": "stdout",
     "output_type": "stream",
     "text": [
      "a lighthouse overlooking the ocean\n"
     ]
    },
    {
     "data": {
      "image/svg+xml": [
       "<svg viewBox=\"0 0 256 256\" width=\"256\" height=\"256\">\n",
       "  <path d=\"M0 64 L256 64 L256 192 L0 192 Z\" stroke=\"rgb(136,48,48)\" stroke-width=\"5\" fill=\"rgb(136,48,48)\"/>\n",
       "  <rect x=\"40\" y=\"80\" width=\"20\" height=\"56\" fill=\"rgb(228,230,233)\"/>\n",
       "  <rect x=\"176\" y=\"80\" width=\"20\" height=\"56\" fill=\"rgb(228,230,233)\"/>\n",
       "  <circle cx=\"55\" cy=\"120\" r=\"5\" fill=\" silber\"/>\n",
       "  <circle cx=\"180\" cy=\"120\" r=\"5\" fill=\"silber\"/>\n",
       "</svg>"
      ],
      "text/plain": [
       "<IPython.core.display.SVG object>"
      ]
     },
     "metadata": {},
     "output_type": "display_data"
    },
    {
     "name": "stdout",
     "output_type": "stream",
     "text": [
      "burgundy corduroy pants with patch pockets and silver buttons\n"
     ]
    },
    {
     "data": {
      "image/svg+xml": [
       "<svg viewBox=\"0 0 256 256\" width=\"256\" height=\"256\">\n",
       "  <path d=\"M100 100 L156 100 L156 200 L100 200 Z\" fill=\"orange\" stroke=\"black\" stroke-width=\"2\"/>\n",
       "  <defs>\n",
       "    <linearGradient id=\"corduroy\" x1=\"0%\" y1=\"0%\" x2=\"100%\" y2=\"0%\">\n",
       "      <stop offset=\"0%\" stop-color=\"orange\"/>\n",
       "      <stop offset=\"100%\" stop-color=\"#F8B195\"/>\n",
       "    </linearGradient>\n",
       "  </defs>\n",
       "  <path d=\"M40 120 L180 120 L180 140 L40 140 Z\" fill=\"url(#corduroy)\"/>\n",
       "  <path d=\"M40 160 L180 160 L180 180 L40 180 Z\" fill=\"url(#corduroy)\"/>\n",
       "</svg>"
      ],
      "text/plain": [
       "<IPython.core.display.SVG object>"
      ]
     },
     "metadata": {},
     "output_type": "display_data"
    },
    {
     "name": "stdout",
     "output_type": "stream",
     "text": [
      "orange corduroy overalls\n"
     ]
    },
    {
     "data": {
      "image/svg+xml": [
       "<svg viewBox=\"0 0 256 256\" width=\"256\" height=\"256\">\n",
       "  <rect x=\"20\" y=\"20\" width=\"216\" height=\"180\" fill=\"purple\"/>\n",
       "  <polygon points=\"180,180 200,190 200,200\" fill=\"purple\"/>\n",
       "  <path d=\"M180 200 L 190 210 L 200 200\" stroke=\"purple\" stroke-width=\"5\"/>\n",
       "</svg>"
      ],
      "text/plain": [
       "<IPython.core.display.SVG object>"
      ]
     },
     "metadata": {},
     "output_type": "display_data"
    },
    {
     "name": "stdout",
     "output_type": "stream",
     "text": [
      "a purple silk scarf with tassel trim\n"
     ]
    },
    {
     "data": {
      "image/svg+xml": [
       "<svg viewBox=\"0 0 256 256\" width=\"256\" height=\"256\">\n",
       "  <defs>\n",
       "    <linearGradient id=\"cloudGradient\" x1=\"0\" y1=\"0\" x2=\"100%\" y2=\"100%\">\n",
       "      <stop offset=\"0%\" stop-color=\"white\"/>\n",
       "      <stop offset=\"100%\" stop-color=\"lightgrey\"/>\n",
       "    </linearGradient>\n",
       "  </defs>\n",
       "  <rect x=\"0\" y=\"0\" width=\"256\" height=\"128\" fill=\"lightblue\"/>\n",
       "  <path d=\"M 32 80 Q 64 20 120 80 Q 168 20 208 80\" stroke=\"none\" fill=\"url(#cloudGradient)\"/>\n",
       "  <path d=\"M 100 100 Q 80 60 60 100 Q 40 140 60 160 Q 80 200 100 180\" stroke=\"none\" fill=\"url(#cloudGradient)\"/>\n",
       "  \n",
       "</svg>"
      ],
      "text/plain": [
       "<IPython.core.display.SVG object>"
      ]
     },
     "metadata": {},
     "output_type": "display_data"
    },
    {
     "name": "stdout",
     "output_type": "stream",
     "text": [
      "a green lagoon under a cloudy sky\n"
     ]
    },
    {
     "data": {
      "image/svg+xml": [
       "<svg viewBox=\"0 0 256 256\" width=\"256\" height=\"256\">\n",
       "  <defs>\n",
       "    <linearGradient id=\"gradient\">\n",
       "      <stop offset=\"0%\" stop-color=\"crimson\"/>\n",
       "      <stop offset=\"100%\" stop-color=\"coral\"/>\n",
       "    </linearGradient>\n",
       "  </defs>\n",
       "  <rect x=\"0\" y=\"0\" width=\"256\" height=\"256\" fill=\"url(#gradient)\"/>\n",
       "</svg>"
      ],
      "text/plain": [
       "<IPython.core.display.SVG object>"
      ]
     },
     "metadata": {},
     "output_type": "display_data"
    },
    {
     "name": "stdout",
     "output_type": "stream",
     "text": [
      "crimson rectangles forming a chaotic grid\n"
     ]
    },
    {
     "data": {
      "image/svg+xml": [
       "<svg viewBox=\"0 0 256 256\" width=\"256\" height=\"256\">\n",
       "  <!-- Cone -->\n",
       "  <polygon points=\"128,256 64,128 192,128\" fill=\"brown\"/>\n",
       "  <!-- Pyramids -->\n",
       "  <g transform=\"rotate(45 128 128)\">\n",
       "    <polygon points=\"90,128 100,256 150,256 140,128\" fill=\"purple\" transform=\"rotate(45 128 128)\"/>\n",
       "  </g>\n",
       "</svg>"
      ],
      "text/plain": [
       "<IPython.core.display.SVG object>"
      ]
     },
     "metadata": {},
     "output_type": "display_data"
    },
    {
     "name": "stdout",
     "output_type": "stream",
     "text": [
      "purple pyramids spiraling around a bronze cone\n"
     ]
    },
    {
     "data": {
      "image/svg+xml": [
       "<svg viewBox=\"0 0 256 256\" width=\"256\" height=\"256\">\n",
       "  <defs>\n",
       "    <linearGradient id=\"grad\" x1=\"0%\" y1=\"0%\" x2=\"100%\" y2=\"100%\">\n",
       "      <stop offset=\"0%\" stop-color=\"silver\" stop-opacity=\"0.7\"/>\n",
       "      <stop offset=\"100%\" stop-color=\"silver\"/>\n",
       "    </linearGradient>\n",
       "  </defs>\n",
       "  <rect x=\"0\" y=\"0\" width=\"256\" height=\"256\" fill=\"url(#grad)\"/>\n",
       "  <polygon points=\"50,150 100,50 150,150 100,200\" fill=\"magenta\"/>\n",
       "  <polygon points=\"160,150 210,50 260,150 210,200\" fill=\"magenta\"/>\n",
       "</svg>"
      ],
      "text/plain": [
       "<IPython.core.display.SVG object>"
      ]
     },
     "metadata": {},
     "output_type": "display_data"
    },
    {
     "name": "stdout",
     "output_type": "stream",
     "text": [
      "magenta trapezoids layered on a transluscent silver sheet\n"
     ]
    },
    {
     "data": {
      "image/svg+xml": [
       "<svg viewBox=\"0 0 256 256\" width=\"256\" height=\"256\">\n",
       "  <rect x=\"0\" y=\"0\" width=\"256\" height=\"256\" fill=\"#FFFFFF\"/>\n",
       "  <path d=\"M128 144 L128 64 Q120 48 104 64 L104 144 L152 144 L152 64 Q144 48 128 64 Z\" fill=\"#EEEEEE\"/>\n",
       "</svg>"
      ],
      "text/plain": [
       "<IPython.core.display.SVG object>"
      ]
     },
     "metadata": {},
     "output_type": "display_data"
    },
    {
     "name": "stdout",
     "output_type": "stream",
     "text": [
      "a snowy plain\n"
     ]
    },
    {
     "data": {
      "image/svg+xml": [
       "<svg viewBox=\"0 0 256 256\" width=\"256\" height=\"256\">\n",
       "  <defs>\n",
       "    <linearGradient id=\"stripe\" x1=\"0%\" y1=\"0%\" x2=\"100%\" y2=\"0%\">\n",
       "      <stop offset=\"0%\" stop-color=\"black\"/>\n",
       "      <stop offset=\"50%\" stop-color=\"white\"/>\n",
       "      <stop offset=\"100%\" stop-color=\"black\"/>\n",
       "    </linearGradient>\n",
       "  </defs>\n",
       "  <rect x=\"0\" y=\"0\" width=\"256\" height=\"256\" fill=\"url(#stripe)\"/>\n",
       "</svg>"
      ],
      "text/plain": [
       "<IPython.core.display.SVG object>"
      ]
     },
     "metadata": {},
     "output_type": "display_data"
    },
    {
     "name": "stdout",
     "output_type": "stream",
     "text": [
      "black and white checkered pants\n"
     ]
    },
    {
     "data": {
      "image/svg+xml": [
       "<svg viewBox=\"0 0 256 256\" width=\"256\" height=\"256\">\n",
       "  <defs>\n",
       "    <linearGradient id=\"starlight\" x1=\"0\" y1=\"0\" x2=\"256\" y2=\"256\" spreadMethod=\"pad\">\n",
       "      <stop offset=\"0%\" stop-color=\"#1A304A\"/>\n",
       "      <stop offset=\"100%\" stop-color=\"#102030\"/>\n",
       "    </linearGradient>\n",
       "  </defs>\n",
       "  <g fill=\"url(#starlight)\">\n",
       "    <path d=\"M0 120 Q70 20 90 80 Q110 40 150 80 Q170 120 256 120 L256 256 0 256 Z\" transform=\"rotate(30 128 128)\"/>\n",
       "  </g>\n",
       "  <g fill=\"#fff\">\n",
       "    <polygon points=\"60,180 120,100 180,180 100,180\"/>\n",
       "    <polygon points=\"100,180 140,100 180,180 120,180\"/>\n",
       "  </g>\n",
       "  <circle cx=\"128\" cy=\"128\" r=\"5\" fill=\"#fff\" opacity=\"0.5\"/>\n",
       "  <circle cx=\"180\" cy=\"100\" r=\"5\" fill=\"#fff\" opacity=\"0.5\"/>\n",
       "</svg>"
      ],
      "text/plain": [
       "<IPython.core.display.SVG object>"
      ]
     },
     "metadata": {},
     "output_type": "display_data"
    },
    {
     "name": "stdout",
     "output_type": "stream",
     "text": [
      "a starlit night over snow-covered peaks\n"
     ]
    },
    {
     "data": {
      "image/svg+xml": [
       "<svg viewBox=\"0 0 256 256\" width=\"256\" height=\"256\">\n",
       "  <defs>\n",
       "    <linearGradient id=\"azureGradient\" x1=\"0%\" y1=\"0%\" x2=\"100%\" y2=\"100%\">\n",
       "      <stop offset=\"0%\" stop-color=\"azure\"/>\n",
       "      <stop offset=\"100%\" stop-color=\"azure\"/>\n",
       "    </linearGradient>\n",
       "  </defs>\n",
       "  <polygon points=\"50,10 100,250 150,10\" fill=\"khaki\"/>\n",
       "  <path d=\"M50,100 A 100,100 0 1 0 200,100\" stroke=\"url(#azureGradient)\" stroke-width=\"10\" fill=\"none\"/>\n",
       "  <polygon points=\"200,10 250,250 200,250\" fill=\"khaki\"/>\n",
       "  <path d=\"M200,100 A 100,100 0 1 0 50,100\" stroke=\"url(#azureGradient)\" stroke-width=\"10\" fill=\"none\"/>\n",
       "</svg>"
      ],
      "text/plain": [
       "<IPython.core.display.SVG object>"
      ]
     },
     "metadata": {},
     "output_type": "display_data"
    },
    {
     "name": "stdout",
     "output_type": "stream",
     "text": [
      "khaki triangles and azure crescents\n"
     ]
    },
    {
     "data": {
      "image/svg+xml": [
       "<svg viewBox=\"0 0 256 256\" width=\"256\" height=\"256\">\n",
       "  <polygon points=\"50,10 70,20 90,10 110,20 130,10 150,20 170,10 190,20 210,10 230,20 250,10                10,70 30,90 50,70 70,90 90,70 110,90 130,70 150,90 170,70 190,90 210,70 230,90 250,70               10,130 30,150 50,130 70,150 90,130 110,150 130,130 150,150 170,130 190,150 210,130 230,150 250,130               10,190 30,210 50,190 70,210 90,190 110,210 130,190 150,210 170,190 190,210 210,190 230,210 250,190               10,230 30,250 50,230 70,250 90,230 110,250 130,230 150,250 170,230 190,250 210,230 230,250 250,230\" fill=\"maroon\"/>\n",
       "  <polygon points=\"50,10 70,20 90,10 110,20 130,10 150,20 170,10 190,20 210,10 230,20                  50,70 70,90 90,70 110,90 130,70 150,90 170,70 190,90 210,70 230,90 250,70                50,130 70,150 90,130 110,150 130,130 150,150 170,130 190,150 210,130 230,150 250,130               50,190 70,210 90,190 110,210 130,190 150,210 170,190 190,210 210,190 230,210 250,190               50,230 70,250 90,230 110,250 130,230 150,250 170,230 190,250 210,230 230,250 250,230\" fill=\"teal\" opacity=\"0.5\"/> \n",
       "</svg>"
      ],
      "text/plain": [
       "<IPython.core.display.SVG object>"
      ]
     },
     "metadata": {},
     "output_type": "display_data"
    },
    {
     "name": "stdout",
     "output_type": "stream",
     "text": [
      "a maroon dodecahedron interwoven with teal threads\n"
     ]
    }
   ],
   "source": [
    "from IPython.display import SVG\n",
    "from utils.constants import SVG_PROMPT, DEFAULT_SVG\n",
    "import re\n",
    "\n",
    "for idx, row in df.iterrows():\n",
    "    desc  = row[\"description\"]\n",
    "    response = gemma(SVG_PROMPT.format(desc))\n",
    "    if response:\n",
    "        matches = re.findall(r\"<svg.*?</svg>\", response, re.DOTALL | re.IGNORECASE)\n",
    "    else:\n",
    "        matches = None\n",
    "    if matches:\n",
    "        svg = matches[-1]\n",
    "    else: \n",
    "        svg = DEFAULT_SVG\n",
    "    display(SVG(svg))\n",
    "    print(desc)"
   ]
  },
  {
   "cell_type": "markdown",
   "id": "247c28bd",
   "metadata": {},
   "source": [
    "# Conclusion \n",
    "Cannot use api as the quantization setting varies from the kaggle config. Therefore, cannot be used to replicate."
   ]
  },
  {
   "cell_type": "markdown",
   "id": "8ae86b95",
   "metadata": {},
   "source": []
  }
 ],
 "metadata": {
  "kernelspec": {
   "display_name": "auto",
   "language": "python",
   "name": "python3"
  },
  "language_info": {
   "codemirror_mode": {
    "name": "ipython",
    "version": 3
   },
   "file_extension": ".py",
   "mimetype": "text/x-python",
   "name": "python",
   "nbconvert_exporter": "python",
   "pygments_lexer": "ipython3",
   "version": "3.13.1"
  }
 },
 "nbformat": 4,
 "nbformat_minor": 5
}
