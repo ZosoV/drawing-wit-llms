{
 "cells": [
  {
   "cell_type": "markdown",
   "id": "fe7464a3",
   "metadata": {},
   "source": [
    "Change scope of the notebook"
   ]
  },
  {
   "cell_type": "code",
   "execution_count": null,
   "id": "f40a0ec0",
   "metadata": {},
   "outputs": [],
   "source": [
    "import os\n",
    "from pathlib import Path\n",
    "\n",
    "scope = Path().resolve()\n",
    "print(scope)\n",
    "\n",
    "os.chdir(\"..\")\n",
    "\n",
    "scope = Path().resolve()\n",
    "print(scope)"
   ]
  },
  {
   "cell_type": "markdown",
   "id": "98a48629",
   "metadata": {},
   "source": [
    "Pre requisites"
   ]
  },
  {
   "cell_type": "code",
   "execution_count": null,
   "id": "385c05cd",
   "metadata": {},
   "outputs": [],
   "source": [
    "import json\n",
    "import re\n",
    "from datetime import datetime\n",
    "\n",
    "import pandas as pd\n",
    "from dotenv import load_dotenv\n",
    "\n",
    "from utils.llm import llm\n",
    "\n",
    "load_dotenv(\".env\")\n",
    "\n",
    "model = llm()\n",
    "\n",
    "# prompt directly from kaggle starter notebook\n",
    "svg_prompt = \"\"\"Generate SVG code to visually represent the following text description, while respecting the given constraints.\n",
    "<constraints>\n",
    "* **Allowed Elements:** `svg`, `path`, `circle`, `rect`, `ellipse`, `line`, `polyline`, `polygon`, `g`, `linearGradient`, `radialGradient`, `stop`, `defs`\n",
    "* **Allowed Attributes:** `viewBox`, `width`, `height`, `fill`, `stroke`, `stroke-width`, `d`, `cx`, `cy`, `r`, `x`, `y`, `rx`, `ry`, `x1`, `y1`, `x2`, `y2`, `points`, `transform`, `opacity`\n",
    "</constraints>\n",
    "\n",
    "<example>\n",
    "<description>\"A red circle with a blue square inside\"</description>\n",
    "```svg\n",
    "<svg viewBox=\"0 0 256 256\" width=\"256\" height=\"256\">\n",
    "  <circle cx=\"50\" cy=\"50\" r=\"40\" fill=\"red\"/>\n",
    "  <rect x=\"30\" y=\"30\" width=\"40\" height=\"40\" fill=\"blue\"/>\n",
    "</svg>\n",
    "```\n",
    "</example>\n",
    "\n",
    "\n",
    "Please ensure that the generated SVG code is well-formed, valid, and strictly adheres to these constraints. Focus on a clear and concise representation of the input description within the given limitations. Always give the complete SVG code with nothing omitted. Never use an ellipsis.\n",
    "\n",
    "<description>\"{}\"</description>\n",
    "```svg\n",
    "<svg viewBox=\"0 0 256 256\" width=\"256\" height=\"256\">\n",
    "\"\"\"\n",
    "\n",
    "synthetic_desc_prompt = \"\"\"Your task is to generate {limit} unique descriptions for SVG.\n",
    "<example>\n",
    "{examples}\n",
    "</example>\n",
    "Important: you cannot use examples directly and output only in json.\n",
    "\n",
    "``json\n",
    "\"\"\""
   ]
  },
  {
   "cell_type": "markdown",
   "id": "f7b5db28",
   "metadata": {},
   "source": [
    "utility functions"
   ]
  },
  {
   "cell_type": "code",
   "execution_count": 34,
   "id": "1c870b8e",
   "metadata": {},
   "outputs": [],
   "source": [
    "def postprocess_response(content: str):\n",
    "    \"\"\"\n",
    "    Remove markdown delimiters\n",
    "    \"\"\"\n",
    "    if \"```json\" in content:\n",
    "        regex = r\"```json(.*?)```\"\n",
    "        matches = re.findall(regex, content, re.DOTALL)\n",
    "        return matches[0]\n",
    "    else:\n",
    "        return content\n",
    "\n",
    "\n",
    "def get_descriptions() -> list[str]:\n",
    "    with open(\"dataset/saved_descriptions.json\", \"r\") as file:\n",
    "        data = json.load(file)\n",
    "\n",
    "    return data\n",
    "\n",
    "\n",
    "def save_descriptions(new_desc: list[str]):\n",
    "    \"\"\"\n",
    "    save unique processed descriptions\n",
    "    \"\"\"\n",
    "    data = get_descriptions()\n",
    "    data = set(data)\n",
    "    data.update(new_desc)\n",
    "    with open(\"dataset/saved_descriptions.json\", \"w\") as file:\n",
    "        json.dump(list(data), file)\n",
    "\n",
    "    return\n",
    "\n",
    "\n",
    "def list_to_str(list_desc: list[str]):\n",
    "    formatted_disc = \"\"\n",
    "    for desc in list_desc:\n",
    "        formatted_disc += desc + \"\\n\"\n",
    "    return formatted_disc\n"
   ]
  },
  {
   "cell_type": "markdown",
   "id": "1f283048",
   "metadata": {},
   "source": [
    "generate new descriptions"
   ]
  },
  {
   "cell_type": "markdown",
   "id": "902b6bb1",
   "metadata": {},
   "source": [
    "Not the best way to do synthetic description generation but this method should be applicable for the first few 100s of samples"
   ]
  },
  {
   "cell_type": "code",
   "execution_count": null,
   "id": "0c689555",
   "metadata": {},
   "outputs": [],
   "source": [
    "def generate_new_descriptions():\n",
    "    descriptons_string = list_to_str(get_descriptions())\n",
    "\n",
    "    new_desc = model(\n",
    "        synthetic_desc_prompt.format(limit=str(50), examples=descriptons_string)\n",
    "    )\n",
    "\n",
    "    try:\n",
    "        if new_desc:\n",
    "            data = json.loads(postprocess_response(new_desc))\n",
    "        else:\n",
    "            raise ValueError(\"rate limit reached\")\n",
    "    except Exception:\n",
    "        raise ValueError(\"not json serializable\")\n",
    "\n",
    "    return data\n",
    "\n",
    "\n",
    "train_data = generate_new_descriptions()"
   ]
  },
  {
   "cell_type": "markdown",
   "id": "84bef4e3",
   "metadata": {},
   "source": [
    "generate new SVGs"
   ]
  },
  {
   "cell_type": "code",
   "execution_count": null,
   "id": "cc22523e",
   "metadata": {},
   "outputs": [],
   "source": [
    "def generate(list_desc):\n",
    "    output_file = f\"dataset/svg_datasets/svg_gemini-2.5-pro_{datetime.now().strftime('%Y-%m-%d_%H-%M-%S')}.csv\"\n",
    "    df_dict = {\n",
    "        \"description\": [],\n",
    "        \"prompt\": [],\n",
    "        \"svg\": [],\n",
    "        # \"processed_svg\": [], Can be done later\n",
    "    }\n",
    "    for desc in list_desc:\n",
    "        # append None when rate limit exceeded or uncaught errors\n",
    "        try:\n",
    "            svg = model(svg_prompt.format(desc))\n",
    "        except Exception:\n",
    "            svg = None\n",
    "\n",
    "        df_dict[\"description\"].append(desc)\n",
    "        df_dict[\"prompt\"].append(svg_prompt.format(desc))\n",
    "        df_dict[\"svg\"].append(svg)\n",
    "\n",
    "    df = pd.DataFrame(df_dict)\n",
    "    df = df.dropna()\n",
    "    save_descriptions(list(df[\"description\"]))\n",
    "    df.to_csv(output_file)\n",
    "\n",
    "\n",
    "generate(train_data)"
   ]
  }
 ],
 "metadata": {
  "kernelspec": {
   "display_name": "auto",
   "language": "python",
   "name": "python3"
  },
  "language_info": {
   "codemirror_mode": {
    "name": "ipython",
    "version": 3
   },
   "file_extension": ".py",
   "mimetype": "text/x-python",
   "name": "python",
   "nbconvert_exporter": "python",
   "pygments_lexer": "ipython3",
   "version": "3.10.16"
  }
 },
 "nbformat": 4,
 "nbformat_minor": 5
}
